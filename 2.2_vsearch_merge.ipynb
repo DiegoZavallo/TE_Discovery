{
 "cells": [
  {
   "cell_type": "code",
   "execution_count": 208,
   "metadata": {},
   "outputs": [],
   "source": [
    "from Bio import SeqIO\n",
    "from Bio.SeqRecord import SeqRecord\n",
    "from itertools import cycle\n",
    "from os import listdir\n",
    "from os.path import isfile, join\n",
    "tes_type = ['MITE', 'TRIM', 'LARD', 'TIR','helitron','LTR','SINE', 'LINE']\n",
    "pool = cycle(tes_type)\n"
   ]
  },
  {
   "cell_type": "code",
   "execution_count": 213,
   "metadata": {},
   "outputs": [
    {
     "name": "stdout",
     "output_type": "stream",
     "text": [
      "('Running for', 'helitron')\n"
     ]
    }
   ],
   "source": [
    "te_type = next(pool)\n",
    "print('Running for', te_type)"
   ]
  },
  {
   "cell_type": "code",
   "execution_count": 214,
   "metadata": {},
   "outputs": [],
   "source": [
    "def find_between(s, first, last):\n",
    "    try:\n",
    "        start = s.index(first) + len(first)\n",
    "        end = s.index( last, start )\n",
    "        return s[start:end]\n",
    "    except ValueError:\n",
    "        return \"\""
   ]
  },
  {
   "cell_type": "code",
   "execution_count": 215,
   "metadata": {},
   "outputs": [],
   "source": [
    "if te_type == 'MITE':\n",
    "    path_cluster = 'data/results/clusters_mite'\n",
    "    path_outfile = 'data/results/clustered_mite.fasta'\n",
    "if te_type == 'TRIM':\n",
    "    path_cluster = 'data/results/clusters_trim'\n",
    "    path_outfile = 'data/results/clustered_trim.fasta'\n",
    "if te_type == 'LARD':\n",
    "    path_cluster = 'data/results/clusters_lard'\n",
    "    path_outfile = 'data/results/clustered_lard.fasta'\n",
    "if te_type == 'TIR':\n",
    "    path_cluster = 'data/results/clusters_tir'\n",
    "    path_outfile = 'data/results/clustered_tir.fasta'\n",
    "if te_type == 'helitron':\n",
    "    path_cluster = 'data/results/clusters_helitron'\n",
    "    path_outfile = 'data/results/clustered_helitron.fasta'\n",
    "if te_type == 'LTR':\n",
    "    #ltrs\n",
    "    path_cluster = 'data/results/clusters_ltr'\n",
    "    path_outfile = 'data/results/clustered_ltr.fasta'\n",
    "if te_type == 'LINE':\n",
    "    #line\n",
    "    path_cluster = 'data/results/clusters_line'\n",
    "    path_outfile = 'data/results/clustered_line.fasta'\n",
    "if te_type == 'SINE':\n",
    "    #sine\n",
    "    path_cluster = 'data/results/clusters_sine'\n",
    "    path_outfile = 'data/results/clustered_sine.fasta'"
   ]
  },
  {
   "cell_type": "code",
   "execution_count": 216,
   "metadata": {},
   "outputs": [
    {
     "data": {
      "text/plain": [
       "('data/results/clusters_helitrons',\n",
       " 'data/results/clustered_helitrons.fasta',\n",
       " 'helitron')"
      ]
     },
     "execution_count": 216,
     "metadata": {},
     "output_type": "execute_result"
    }
   ],
   "source": [
    "path_cluster, path_outfile, te_type"
   ]
  },
  {
   "cell_type": "code",
   "execution_count": 217,
   "metadata": {},
   "outputs": [],
   "source": [
    "records = []\n",
    "files = [f for f in listdir(path_cluster) if isfile(join(path_cluster, f))]\n",
    "inc_id = 1\n",
    "for file in files:\n",
    "    fasta_seqs = SeqIO.parse(join(path_cluster, file), \"fasta\")\n",
    "    first_record = False\n",
    "    ids = []\n",
    "    for record in fasta_seqs:\n",
    "        if not first_record:\n",
    "            record_buff = record\n",
    "            first_record = True\n",
    "        ids.append('[' + find_between(record.id,'[',']') + ']')\n",
    "    new_id = te_type + \"_id_\" + str(inc_id) + \";\" + record_buff.id + ''.join(ids)\n",
    "    seq = SeqRecord(record_buff.seq, id=new_id, description='')\n",
    "    records.append(seq)\n",
    "    inc_id += 1"
   ]
  },
  {
   "cell_type": "code",
   "execution_count": 218,
   "metadata": {},
   "outputs": [
    {
     "name": "stdout",
     "output_type": "stream",
     "text": [
      "1323\n",
      "data/results/clustered_helitrons.fasta\n"
     ]
    }
   ],
   "source": [
    "print(inc_id)\n",
    "SeqIO.write(records, path_outfile, \"fasta\")\n",
    "print(path_outfile)"
   ]
  },
  {
   "cell_type": "code",
   "execution_count": 220,
   "metadata": {},
   "outputs": [
    {
     "data": {
      "text/plain": [
       "1322"
      ]
     },
     "execution_count": 220,
     "metadata": {},
     "output_type": "execute_result"
    }
   ],
   "source": [
    "len(files)"
   ]
  },
  {
   "cell_type": "code",
   "execution_count": null,
   "metadata": {},
   "outputs": [],
   "source": []
  },
  {
   "cell_type": "code",
   "execution_count": null,
   "metadata": {},
   "outputs": [],
   "source": []
  }
 ],
 "metadata": {
  "kernelspec": {
   "display_name": "Python 3",
   "language": "python",
   "name": "python3"
  },
  "language_info": {
   "codemirror_mode": {
    "name": "ipython",
    "version": 2
   },
   "file_extension": ".py",
   "mimetype": "text/x-python",
   "name": "python",
   "nbconvert_exporter": "python",
   "pygments_lexer": "ipython2",
   "version": "2.7.15"
  }
 },
 "nbformat": 4,
 "nbformat_minor": 2
}
