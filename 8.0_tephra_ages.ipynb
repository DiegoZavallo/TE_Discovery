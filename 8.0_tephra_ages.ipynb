{
 "cells": [
  {
   "cell_type": "code",
   "execution_count": 1,
   "metadata": {},
   "outputs": [],
   "source": [
    "import pandas as pd"
   ]
  },
  {
   "cell_type": "code",
   "execution_count": 2,
   "metadata": {},
   "outputs": [],
   "source": [
    "path_ages = \"data/plots/tehpra_ltrs_classified_ages_new_09_04_19.tsv\""
   ]
  },
  {
   "cell_type": "code",
   "execution_count": 3,
   "metadata": {},
   "outputs": [
    {
     "name": "stdout",
     "output_type": "stream",
     "text": [
      "27591\n"
     ]
    },
    {
     "data": {
      "text/html": [
       "<div>\n",
       "<table border=\"1\" class=\"dataframe\">\n",
       "  <thead>\n",
       "    <tr style=\"text-align: right;\">\n",
       "      <th></th>\n",
       "      <th>ID</th>\n",
       "      <th>Divergence</th>\n",
       "      <th>Age</th>\n",
       "      <th>Ts:Tv</th>\n",
       "    </tr>\n",
       "  </thead>\n",
       "  <tbody>\n",
       "    <tr>\n",
       "      <th>0</th>\n",
       "      <td>RLC_family0_LTR_retrotransposon248_chr00_43732...</td>\n",
       "      <td>0.0775</td>\n",
       "      <td>3875000</td>\n",
       "      <td>11.0785</td>\n",
       "    </tr>\n",
       "    <tr>\n",
       "      <th>1</th>\n",
       "      <td>RLC_family0_LTR_retrotransposon829_chr00_19719...</td>\n",
       "      <td>0.0611</td>\n",
       "      <td>3055000</td>\n",
       "      <td>9.7319</td>\n",
       "    </tr>\n",
       "  </tbody>\n",
       "</table>\n",
       "</div>"
      ],
      "text/plain": [
       "                                                  ID  Divergence      Age  \\\n",
       "0  RLC_family0_LTR_retrotransposon248_chr00_43732...      0.0775  3875000   \n",
       "1  RLC_family0_LTR_retrotransposon829_chr00_19719...      0.0611  3055000   \n",
       "\n",
       "     Ts:Tv  \n",
       "0  11.0785  \n",
       "1   9.7319  "
      ]
     },
     "execution_count": 3,
     "metadata": {},
     "output_type": "execute_result"
    }
   ],
   "source": [
    "df_ages = pd.read_csv(path_ages, sep='\\t')\n",
    "print(len(df_ages.index))\n",
    "df_ages.head(2)"
   ]
  },
  {
   "cell_type": "code",
   "execution_count": 14,
   "metadata": {},
   "outputs": [
    {
     "name": "stdout",
     "output_type": "stream",
     "text": [
      "10384\n"
     ]
    }
   ],
   "source": [
    "df_ages = df_ages[(df_ages.ID.str.contains('LTR'))]\n",
    "print(len(df_ages.index))"
   ]
  },
  {
   "cell_type": "code",
   "execution_count": 15,
   "metadata": {},
   "outputs": [],
   "source": [
    "df_ages['seqname'] = df_ages['ID'].str.split('_').str[-3:-2].str[0]\n",
    "df_ages['start'] = df_ages['ID'].str.split('_').str[-2:-1].str[0]\n",
    "df_ages['end'] = df_ages['ID'].str.split('_').str[-1:].str[0]"
   ]
  },
  {
   "cell_type": "code",
   "execution_count": 16,
   "metadata": {},
   "outputs": [
    {
     "data": {
      "text/html": [
       "<div>\n",
       "<table border=\"1\" class=\"dataframe\">\n",
       "  <thead>\n",
       "    <tr style=\"text-align: right;\">\n",
       "      <th></th>\n",
       "      <th>ID</th>\n",
       "      <th>Divergence</th>\n",
       "      <th>Age</th>\n",
       "      <th>Ts:Tv</th>\n",
       "      <th>seqname</th>\n",
       "      <th>start</th>\n",
       "      <th>end</th>\n",
       "    </tr>\n",
       "  </thead>\n",
       "  <tbody>\n",
       "    <tr>\n",
       "      <th>0</th>\n",
       "      <td>RLC_family0_LTR_retrotransposon248_chr00_43732...</td>\n",
       "      <td>0.0775</td>\n",
       "      <td>3875000</td>\n",
       "      <td>11.0785</td>\n",
       "      <td>chr00</td>\n",
       "      <td>4373242</td>\n",
       "      <td>4378730</td>\n",
       "    </tr>\n",
       "    <tr>\n",
       "      <th>1</th>\n",
       "      <td>RLC_family0_LTR_retrotransposon829_chr00_19719...</td>\n",
       "      <td>0.0611</td>\n",
       "      <td>3055000</td>\n",
       "      <td>9.7319</td>\n",
       "      <td>chr00</td>\n",
       "      <td>19719108</td>\n",
       "      <td>19724589</td>\n",
       "    </tr>\n",
       "    <tr>\n",
       "      <th>2</th>\n",
       "      <td>RLC_family0_LTR_retrotransposon2116_chr01_2257...</td>\n",
       "      <td>0.1043</td>\n",
       "      <td>5215000</td>\n",
       "      <td>2.0909</td>\n",
       "      <td>chr01</td>\n",
       "      <td>22577889</td>\n",
       "      <td>22582457</td>\n",
       "    </tr>\n",
       "  </tbody>\n",
       "</table>\n",
       "</div>"
      ],
      "text/plain": [
       "                                                  ID  Divergence      Age  \\\n",
       "0  RLC_family0_LTR_retrotransposon248_chr00_43732...      0.0775  3875000   \n",
       "1  RLC_family0_LTR_retrotransposon829_chr00_19719...      0.0611  3055000   \n",
       "2  RLC_family0_LTR_retrotransposon2116_chr01_2257...      0.1043  5215000   \n",
       "\n",
       "     Ts:Tv seqname     start       end  \n",
       "0  11.0785   chr00   4373242   4378730  \n",
       "1   9.7319   chr00  19719108  19724589  \n",
       "2   2.0909   chr01  22577889  22582457  "
      ]
     },
     "execution_count": 16,
     "metadata": {},
     "output_type": "execute_result"
    }
   ],
   "source": [
    "df_ages.head(3)"
   ]
  },
  {
   "cell_type": "code",
   "execution_count": 17,
   "metadata": {},
   "outputs": [
    {
     "data": {
      "text/html": [
       "<div>\n",
       "<table border=\"1\" class=\"dataframe\">\n",
       "  <thead>\n",
       "    <tr style=\"text-align: right;\">\n",
       "      <th></th>\n",
       "      <th>Chr</th>\n",
       "      <th>Start</th>\n",
       "      <th>End</th>\n",
       "      <th>Value</th>\n",
       "    </tr>\n",
       "  </thead>\n",
       "  <tbody>\n",
       "    <tr>\n",
       "      <th>0</th>\n",
       "      <td>chr00</td>\n",
       "      <td>4373242</td>\n",
       "      <td>4378730</td>\n",
       "      <td>3875000</td>\n",
       "    </tr>\n",
       "    <tr>\n",
       "      <th>1</th>\n",
       "      <td>chr00</td>\n",
       "      <td>19719108</td>\n",
       "      <td>19724589</td>\n",
       "      <td>3055000</td>\n",
       "    </tr>\n",
       "    <tr>\n",
       "      <th>2</th>\n",
       "      <td>chr01</td>\n",
       "      <td>22577889</td>\n",
       "      <td>22582457</td>\n",
       "      <td>5215000</td>\n",
       "    </tr>\n",
       "    <tr>\n",
       "      <th>3</th>\n",
       "      <td>chr01</td>\n",
       "      <td>28797996</td>\n",
       "      <td>28802884</td>\n",
       "      <td>7235000</td>\n",
       "    </tr>\n",
       "    <tr>\n",
       "      <th>4</th>\n",
       "      <td>chr01</td>\n",
       "      <td>33618994</td>\n",
       "      <td>33624895</td>\n",
       "      <td>4930000</td>\n",
       "    </tr>\n",
       "  </tbody>\n",
       "</table>\n",
       "</div>"
      ],
      "text/plain": [
       "     Chr     Start       End    Value\n",
       "0  chr00   4373242   4378730  3875000\n",
       "1  chr00  19719108  19724589  3055000\n",
       "2  chr01  22577889  22582457  5215000\n",
       "3  chr01  28797996  28802884  7235000\n",
       "4  chr01  33618994  33624895  4930000"
      ]
     },
     "execution_count": 17,
     "metadata": {},
     "output_type": "execute_result"
    }
   ],
   "source": [
    "df_ages_save = df_ages.rename(columns={'seqname':'Chr','start':'Start','end':'End','Age':'Value'})\n",
    "df_ages_save = df_ages_save[['Chr','Start','End','Value']]\n",
    "df_ages_save.to_csv('data/ltr_ages.csv',sep='\\t', index=None)\n",
    "df_ages_save.head()"
   ]
  },
  {
   "cell_type": "code",
   "execution_count": 18,
   "metadata": {},
   "outputs": [
    {
     "data": {
      "text/html": [
       "<div>\n",
       "<table border=\"1\" class=\"dataframe\">\n",
       "  <thead>\n",
       "    <tr style=\"text-align: right;\">\n",
       "      <th></th>\n",
       "      <th>ID</th>\n",
       "      <th>Divergence</th>\n",
       "      <th>Age</th>\n",
       "      <th>Ts:Tv</th>\n",
       "      <th>seqname</th>\n",
       "      <th>start</th>\n",
       "      <th>end</th>\n",
       "    </tr>\n",
       "  </thead>\n",
       "  <tbody>\n",
       "    <tr>\n",
       "      <th>0</th>\n",
       "      <td>RLC_family0_LTR_retrotransposon248_chr00_43732...</td>\n",
       "      <td>0.0775</td>\n",
       "      <td>3875000</td>\n",
       "      <td>11.0785</td>\n",
       "      <td>chr00</td>\n",
       "      <td>4373242</td>\n",
       "      <td>4378730</td>\n",
       "    </tr>\n",
       "    <tr>\n",
       "      <th>1</th>\n",
       "      <td>RLC_family0_LTR_retrotransposon829_chr00_19719...</td>\n",
       "      <td>0.0611</td>\n",
       "      <td>3055000</td>\n",
       "      <td>9.7319</td>\n",
       "      <td>chr00</td>\n",
       "      <td>19719108</td>\n",
       "      <td>19724589</td>\n",
       "    </tr>\n",
       "    <tr>\n",
       "      <th>2</th>\n",
       "      <td>RLC_family0_LTR_retrotransposon2116_chr01_2257...</td>\n",
       "      <td>0.1043</td>\n",
       "      <td>5215000</td>\n",
       "      <td>2.0909</td>\n",
       "      <td>chr01</td>\n",
       "      <td>22577889</td>\n",
       "      <td>22582457</td>\n",
       "    </tr>\n",
       "    <tr>\n",
       "      <th>3</th>\n",
       "      <td>RLC_family0_LTR_retrotransposon2340_chr01_2879...</td>\n",
       "      <td>0.1447</td>\n",
       "      <td>7235000</td>\n",
       "      <td>2.3161</td>\n",
       "      <td>chr01</td>\n",
       "      <td>28797996</td>\n",
       "      <td>28802884</td>\n",
       "    </tr>\n",
       "    <tr>\n",
       "      <th>4</th>\n",
       "      <td>RLC_family0_LTR_retrotransposon2497_chr01_3361...</td>\n",
       "      <td>0.0986</td>\n",
       "      <td>4930000</td>\n",
       "      <td>4.2829</td>\n",
       "      <td>chr01</td>\n",
       "      <td>33618994</td>\n",
       "      <td>33624895</td>\n",
       "    </tr>\n",
       "  </tbody>\n",
       "</table>\n",
       "</div>"
      ],
      "text/plain": [
       "                                                  ID  Divergence      Age  \\\n",
       "0  RLC_family0_LTR_retrotransposon248_chr00_43732...      0.0775  3875000   \n",
       "1  RLC_family0_LTR_retrotransposon829_chr00_19719...      0.0611  3055000   \n",
       "2  RLC_family0_LTR_retrotransposon2116_chr01_2257...      0.1043  5215000   \n",
       "3  RLC_family0_LTR_retrotransposon2340_chr01_2879...      0.1447  7235000   \n",
       "4  RLC_family0_LTR_retrotransposon2497_chr01_3361...      0.0986  4930000   \n",
       "\n",
       "     Ts:Tv seqname     start       end  \n",
       "0  11.0785   chr00   4373242   4378730  \n",
       "1   9.7319   chr00  19719108  19724589  \n",
       "2   2.0909   chr01  22577889  22582457  \n",
       "3   2.3161   chr01  28797996  28802884  \n",
       "4   4.2829   chr01  33618994  33624895  "
      ]
     },
     "execution_count": 18,
     "metadata": {},
     "output_type": "execute_result"
    }
   ],
   "source": [
    "df_ages.head()"
   ]
  },
  {
   "cell_type": "code",
   "execution_count": 19,
   "metadata": {},
   "outputs": [
    {
     "name": "stdout",
     "output_type": "stream",
     "text": [
      "2699\n"
     ]
    }
   ],
   "source": [
    "df_rlc = df_ages[(df_ages.ID.str.contains('RLC')) & (df_ages.ID.str.contains('LTR'))]\n",
    "print(len(df_rlc.index))\n",
    "df_rlc = df_rlc[['seqname','start','end','Age']]\n",
    "df_rlc = df_rlc.rename(columns={'seqname':'Chr','start':'Start','end':'End','Age':'Value'})\n",
    "df_rlc.to_csv('data/lrc_ages.csv',sep='\\t', index=None)"
   ]
  },
  {
   "cell_type": "code",
   "execution_count": 20,
   "metadata": {},
   "outputs": [
    {
     "name": "stdout",
     "output_type": "stream",
     "text": [
      "2896\n"
     ]
    }
   ],
   "source": [
    "df_rlx = df_ages[df_ages.ID.str.contains('RLX')  & (df_ages.ID.str.contains('LTR'))]\n",
    "print(len(df_rlx.index))\n",
    "df_rlx = df_rlx[['seqname','start','end','Age']]\n",
    "df_rlx = df_rlx.rename(columns={'seqname':'Chr','start':'Start','end':'End','Age':'Value'})\n",
    "df_rlx.to_csv('data/lrx_ages.csv',sep='\\t', index=None)"
   ]
  },
  {
   "cell_type": "code",
   "execution_count": 21,
   "metadata": {},
   "outputs": [
    {
     "name": "stdout",
     "output_type": "stream",
     "text": [
      "4789\n"
     ]
    }
   ],
   "source": [
    "df_rlg = df_ages[df_ages.ID.str.contains('RLG')  & (df_ages.ID.str.contains('LTR'))]\n",
    "print(len(df_rlg.index))\n",
    "df_rlg = df_rlg[['seqname','start','end','Age']]\n",
    "df_rlg = df_rlg.rename(columns={'seqname':'Chr','start':'Start','end':'End','Age':'Value'})\n",
    "df_rlg.to_csv('data/lrg_ages.csv',sep='\\t', index=None)"
   ]
  },
  {
   "cell_type": "code",
   "execution_count": null,
   "metadata": {},
   "outputs": [],
   "source": []
  },
  {
   "cell_type": "code",
   "execution_count": null,
   "metadata": {},
   "outputs": [],
   "source": []
  },
  {
   "cell_type": "code",
   "execution_count": null,
   "metadata": {},
   "outputs": [],
   "source": []
  },
  {
   "cell_type": "code",
   "execution_count": null,
   "metadata": {},
   "outputs": [],
   "source": []
  }
 ],
 "metadata": {
  "kernelspec": {
   "display_name": "Python 3",
   "language": "python",
   "name": "python3"
  },
  "language_info": {
   "codemirror_mode": {
    "name": "ipython",
    "version": 2
   },
   "file_extension": ".py",
   "mimetype": "text/x-python",
   "name": "python",
   "nbconvert_exporter": "python",
   "pygments_lexer": "ipython2",
   "version": "2.7.15"
  }
 },
 "nbformat": 4,
 "nbformat_minor": 2
}
