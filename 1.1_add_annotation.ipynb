{
 "cells": [
  {
   "cell_type": "markdown",
   "metadata": {},
   "source": [
    "Adds annotations to fasta file according to the program which harvest each TE and TE class"
   ]
  },
  {
   "cell_type": "code",
   "execution_count": 5,
   "metadata": {},
   "outputs": [],
   "source": [
    "from Bio import SeqIO\n",
    "from Bio.SeqRecord import SeqRecord\n",
    "from Bio.Seq import Seq"
   ]
  },
  {
   "cell_type": "code",
   "execution_count": 6,
   "metadata": {},
   "outputs": [
    {
     "name": "stdout",
     "output_type": "stream",
     "text": [
      "('Running for', 'TRIM')\n"
     ]
    }
   ],
   "source": [
    "te_type = 'TRIM'\n",
    "print('Running for', te_type)"
   ]
  },
  {
   "cell_type": "code",
   "execution_count": 7,
   "metadata": {},
   "outputs": [],
   "source": [
    "#TRIMs\n",
    "if te_type == 'TRIM':\n",
    "    paths_fasta = {}\n",
    "    paths_fasta['type:TRIM;source:tephra'] = 'data/fasta/tephra/TRIMs_tephra_ClassI_families.fasta'\n",
    "    paths_fasta['type:TRIM;source:TASR'] = 'data/fasta/TASR/TRIMs_TASR_ClassI_families.fasta'\n",
    "    file_out = 'data/results/seqs_trim.fasta'\n",
    "#LARDs\n",
    "if te_type == 'LARD':\n",
    "    paths_fasta = {}\n",
    "    paths_fasta['type:LARD;source:tephra'] = 'data/fasta/tephra/LARDs_tephra_ClassI_families.fasta'\n",
    "    paths_fasta['type:LARD;source:TASR'] = 'data/fasta/TASR/LARDs_TASR_ClassI_families.fasta'\n",
    "    file_out = 'data/results/seqs_lard.fasta'\n",
    "#MITEs\n",
    "if te_type == 'MITE':\n",
    "    paths_fasta = {}\n",
    "    paths_fasta['type:MITE;source:tephra'] = 'data/fasta/tephra/MITEs_tephra_ClassII_families.fasta'\n",
    "    paths_fasta['type:MITE;source:TASR'] = 'data/fasta/TASR/MITEs_TASR_ClassII_families.fasta'\n",
    "    paths_fasta['type:MITE;source:MITETracker'] = 'data/fasta/MITETracker/MITEs_MITETracker_ClassII.fasta'\n",
    "    file_out = 'data/results/seqs_mite.fasta'\n",
    "#TIRs\n",
    "if te_type == 'TIR':\n",
    "    paths_fasta = {}\n",
    "    paths_fasta['type:TIR;source:Repbase'] = 'data/fasta/repbase/TIRs_Repbase_ClassII_families.fasta'\n",
    "    paths_fasta['type:TIR;source:TASR'] = 'data/fasta/TASR/TIRs_TASR_ClassII_families.fasta'\n",
    "    paths_fasta['type:TIR;source:tephra'] = 'data/fasta/tephra/TIRs_tephra_ClassII_families.fasta'\n",
    "    file_out = 'data/results/seqs_tir.fasta'\n",
    "#Helitrons\n",
    "if te_type == 'helitron':\n",
    "    paths_fasta = {}\n",
    "    paths_fasta['type:helitrons;source:TASR'] = 'data/fasta/TASR/Helitrons_TASR_ClassII_families.fasta'\n",
    "    paths_fasta['type:helitrons;source:tephra'] = 'data/fasta/tephra/Helitrons_tephra_ClassII_families.fasta'\n",
    "    file_out = 'data/results/seqs_helitron.fasta'\n",
    "#LTRs\n",
    "if te_type == 'LTR':\n",
    "    paths_fasta = {}\n",
    "    paths_fasta['type:ltr;source:Repbase'] = 'data/fasta/Repbase/LTRs_Repbase_ClassI_families.fasta'\n",
    "    paths_fasta['type:ltr;source:TASR'] = 'data/fasta/TASR/LTRs_TASR_ClassI_families.fasta'\n",
    "    paths_fasta['type:ltr;source:tephra'] = 'data/fasta/tephra/LTRs_tephra_ClassI_families.fasta'\n",
    "    file_out = 'data/results/seqs_ltr.fasta'\n",
    "#SINEs\n",
    "if te_type == 'SINE':\n",
    "    paths_fasta = {}\n",
    "    paths_fasta['type:SINE;source:Repbase'] = 'data/fasta/Repbase/SINEs_Repbase_ClassI_families.fasta'\n",
    "    paths_fasta['type:SINE;source:TASR'] = 'data/fasta/TASR/SINEs_TASR_ClassI_families.fasta'\n",
    "    paths_fasta['type:SINE;source:SINEScan'] = 'data/fasta/SINEScan/SINEs_SINEScan_ClassI_families.fasta'\n",
    "    file_out = 'data/results/seqs_sine.fasta'\n",
    "#LINEs\n",
    "if te_type == 'LINE':\n",
    "    paths_fasta = {}\n",
    "    paths_fasta['type:LINE;source:Repbase'] = 'data/fasta/Repbase/LINEs_Repbase_ClassI_families.fasta'\n",
    "    paths_fasta['type:LINE;source:TASR'] = 'data/fasta/TASR/LINEs_TASR_ClassI_families.fasta'\n",
    "    file_out = 'data/results/seqs_line.fasta' "
   ]
  },
  {
   "cell_type": "code",
   "execution_count": 8,
   "metadata": {},
   "outputs": [],
   "source": [
    "buffer_seqs = []\n",
    "for k, file_fasta in paths_fasta.items():\n",
    "    fasta_seq = SeqIO.parse(file_fasta, 'fasta')\n",
    "    for record in fasta_seq:\n",
    "        new_id =  record.id + '[' + k + ']'\n",
    "        seq = SeqRecord(record.seq, id=new_id, description='')\n",
    "        buffer_seqs.append(seq)"
   ]
  },
  {
   "cell_type": "code",
   "execution_count": 9,
   "metadata": {},
   "outputs": [
    {
     "name": "stdout",
     "output_type": "stream",
     "text": [
      "data/results/seqs_trim.fasta\n"
     ]
    }
   ],
   "source": [
    "SeqIO.write(buffer_seqs, file_out, \"fasta\")\n",
    "print(file_out)"
   ]
  },
  {
   "cell_type": "code",
   "execution_count": null,
   "metadata": {},
   "outputs": [],
   "source": []
  },
  {
   "cell_type": "code",
   "execution_count": null,
   "metadata": {},
   "outputs": [],
   "source": []
  },
  {
   "cell_type": "code",
   "execution_count": null,
   "metadata": {},
   "outputs": [],
   "source": []
  }
 ],
 "metadata": {
  "kernelspec": {
   "display_name": "Python 3",
   "language": "python",
   "name": "python3"
  },
  "language_info": {
   "codemirror_mode": {
    "name": "ipython",
    "version": 3
   },
   "file_extension": ".py",
   "mimetype": "text/x-python",
   "name": "python",
   "nbconvert_exporter": "python",
   "pygments_lexer": "ipython3",
   "version": "3.6.5"
  }
 },
 "nbformat": 4,
 "nbformat_minor": 2
}
