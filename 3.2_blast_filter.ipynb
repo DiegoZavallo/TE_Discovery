{
 "cells": [
  {
   "cell_type": "code",
   "execution_count": 1,
   "metadata": {},
   "outputs": [],
   "source": [
    "import pandas as pd\n",
    "from itertools import cycle\n",
    "path_blast = 'data/results/'\n",
    "tes_type = ['MITE', 'TRIM', 'LARD', 'TIR','helitron','LTR','SINE', 'LINE']\n",
    "pool = cycle(tes_type)"
   ]
  },
  {
   "cell_type": "code",
   "execution_count": 30,
   "metadata": {},
   "outputs": [
    {
     "name": "stdout",
     "output_type": "stream",
     "text": [
      "Running for TRIM\n"
     ]
    }
   ],
   "source": [
    "te_type = next(pool)\n",
    "print('Running for', te_type)"
   ]
  },
  {
   "cell_type": "code",
   "execution_count": 44,
   "metadata": {},
   "outputs": [],
   "source": [
    "#TEs\n",
    "params = {}\n",
    "params['LTR'] = {'min_len':650,'max_len':False,'min_distance':5,'max_q':1.5,'min_q':0.5,'min_pident':80,'min_qcov':50,'file':'blast_clustered_ltr.csv'}\n",
    "params['LINE'] = {'min_len':1500,'max_len':False,'min_distance':5,'max_q':1.2,'min_q':0.8,'min_pident':80,'min_qcov':50,'file':'blast_clustered_line.csv'}\n",
    "params['SINE'] = {'min_len':150,'max_len':800,'min_distance':5,'max_q':1.2,'min_q':0.8,'min_pident':80,'min_qcov':80,'file':'blast_clustered_sine.csv'}\n",
    "params['TRIM'] = {'min_len':600,'max_len':False,'min_distance':5,'max_q':1.15,'min_q':0.85,'min_pident':80,'min_qcov':90,'file':'blast_clustered_trim.csv'}\n",
    "params['TIR'] = {'min_len':700,'max_len':False,'min_distance':5,'max_q':1.5,'min_q':0.5,'min_pident':80,'min_qcov':50,'file':'blast_clustered_tir.csv'}\n",
    "params['MITE'] = {'min_len':50,'max_len':800,'min_distance':5,'max_q':1.15,'min_q':0.85,'min_pident':90,'min_qcov':90,'file':'blast_clustered_mite.csv'}\n",
    "params['LARD'] = {'min_len':50,'max_len':False,'min_distance':5,'max_q':1.15,'min_q':0.85,'min_pident':90,'min_qcov':50,'file':'blast_clustered_lard.csv'}\n",
    "params['helitron'] = {'min_len':2000,'max_len':False,'min_distance':5,'max_q':1.2,'min_q':0.8,'min_pident':80,'min_qcov':50,'file':'blast_clustered_helitron.csv'}\n"
   ]
  },
  {
   "cell_type": "code",
   "execution_count": 5,
   "metadata": {},
   "outputs": [],
   "source": [
    "#TEs - autonomos\n",
    "params = {}\n",
    "params['LTR'] = {'min_len':650,'max_len':False,'min_distance':5,'max_q':1.1,'min_q':0.9,'min_pident':95,'min_qcov':95,'file':'blast_clustered_ltr.csv'}\n",
    "params['LINE'] = {'min_len':1500,'max_len':False,'min_distance':5,'max_q':1.1,'min_q':0.9,'min_pident':95,'min_qcov':95,'file':'blast_clustered_line.csv'}\n",
    "params['TIR'] = {'min_len':700,'max_len':False,'min_distance':5,'max_q':1.1,'min_q':0.9,'min_pident':95,'min_qcov':95,'file':'blast_clustered_tir.csv'}\n",
    "params['helitron'] = {'min_len':2000,'max_len':False,'min_distance':5,'max_q':1.1,'min_q':0.9,'min_pident':95,'min_qcov':95,'file':'blast_clustered_helitron.csv'}\n"
   ]
  },
  {
   "cell_type": "code",
   "execution_count": null,
   "metadata": {},
   "outputs": [],
   "source": []
  },
  {
   "cell_type": "code",
   "execution_count": 54,
   "metadata": {},
   "outputs": [
    {
     "name": "stdout",
     "output_type": "stream",
     "text": [
      "initial: 1225541\n"
     ]
    }
   ],
   "source": [
    "#read blast output\n",
    "df = pd.read_csv(path_blast + params[te_type]['file'], sep='\\t', header=None)\n",
    "df.columns = ['qseqid','sseqid','qstart','qend','sstart','send','score','length','mismatch','gaps','gapopen','nident','pident','qlen','slen','qcovs']\n",
    "print('initial:',len(df.index))\n",
    "initial = len(df.index)"
   ]
  },
  {
   "cell_type": "code",
   "execution_count": 55,
   "metadata": {},
   "outputs": [
    {
     "name": "stdout",
     "output_type": "stream",
     "text": [
      "Min len: 825309\n"
     ]
    }
   ],
   "source": [
    "#filter by length\n",
    "if(params[te_type]['min_len']):\n",
    "    df = df[df.qlen > params[te_type]['min_len']]\n",
    "print('Min len: ' + str(len(df.index)))\n",
    "min_length = str(len(df.index))"
   ]
  },
  {
   "cell_type": "code",
   "execution_count": 56,
   "metadata": {},
   "outputs": [
    {
     "name": "stdout",
     "output_type": "stream",
     "text": [
      "Max len: 825309\n"
     ]
    }
   ],
   "source": [
    "if(params[te_type]['max_len']):\n",
    "    df = df[df.qlen < params[te_type]['max_len']]\n",
    "print('Max len: ' + str(len(df.index)))    \n",
    "max_length = str(len(df.index))"
   ]
  },
  {
   "cell_type": "code",
   "execution_count": 57,
   "metadata": {},
   "outputs": [
    {
     "name": "stdout",
     "output_type": "stream",
     "text": [
      "min treshold: 755273\n"
     ]
    }
   ],
   "source": [
    "#filter by query / subject length treshold\n",
    "df = df[((df.length / df.qlen) >= params[te_type]['min_q'])]\n",
    "print('min treshold:',len(df.index))\n",
    "min_treshold = str(len(df.index))"
   ]
  },
  {
   "cell_type": "code",
   "execution_count": 58,
   "metadata": {},
   "outputs": [
    {
     "name": "stdout",
     "output_type": "stream",
     "text": [
      "max treshold: 755270\n"
     ]
    }
   ],
   "source": [
    "df = df[((df.length / df.qlen) <= params[te_type]['max_q'])]\n",
    "print('max treshold:',len(df.index))\n",
    "max_treshold = str(len(df.index))"
   ]
  },
  {
   "cell_type": "code",
   "execution_count": 59,
   "metadata": {},
   "outputs": [
    {
     "name": "stdout",
     "output_type": "stream",
     "text": [
      "Min_pident: 755270\n"
     ]
    }
   ],
   "source": [
    "#filter by pident\n",
    "df = df[(df.pident >= params[te_type]['min_pident'])]\n",
    "print('Min_pident: ' + str(len(df.index)))\n",
    "min_pident = str(len(df.index))"
   ]
  },
  {
   "cell_type": "code",
   "execution_count": 60,
   "metadata": {},
   "outputs": [
    {
     "name": "stdout",
     "output_type": "stream",
     "text": [
      "Min qcov: 750496\n"
     ]
    }
   ],
   "source": [
    "#filter by qcov\n",
    "df = df[(df.qcovs >= params[te_type]['min_qcov'])]\n",
    "print('Min qcov: ' + str(len(df.index)))\n",
    "min_qcov = str(len(df.index))"
   ]
  },
  {
   "cell_type": "code",
   "execution_count": 61,
   "metadata": {},
   "outputs": [],
   "source": [
    "#order sstart and send\n",
    "df['new_sstart'] = df[['sstart','send']].min(axis=1)\n",
    "df['new_ssend'] = df[['sstart','send']].max(axis=1)\n",
    "df['sstart'] = df['new_sstart']\n",
    "df['send'] = df['new_ssend']\n",
    "df = df.drop('new_sstart',axis=1).drop('new_ssend',axis=1)\n",
    "\n",
    "# sep by chr\n",
    "dfs = {}\n",
    "for seq in df.sseqid.unique():\n",
    "    dfs[seq] = df[df.sseqid == seq]\n"
   ]
  },
  {
   "cell_type": "code",
   "execution_count": null,
   "metadata": {},
   "outputs": [
    {
     "name": "stdout",
     "output_type": "stream",
     "text": [
      "10\n",
      "20\n",
      "30\n",
      "40\n",
      "50\n",
      "60\n",
      "70\n",
      "80\n"
     ]
    }
   ],
   "source": [
    "# filter overlapped \n",
    "rows = []\n",
    "discard = []\n",
    "total = len(df.index)\n",
    "count = 0\n",
    "curr = 0\n",
    "for index, row in df.iterrows():\n",
    "    count += 1\n",
    "    curr_new = int(count * 100 * 1.0 / (total * 1.0))\n",
    "    if curr_new != curr:\n",
    "        curr = curr_new\n",
    "        if curr_new % 10 == 0:\n",
    "            print(curr_new)\n",
    "    if index in discard:\n",
    "        continue\n",
    "    df_2 = dfs[row.sseqid]\n",
    "    res = df_2[(abs(df_2.sstart - row.sstart) <= params[te_type]['min_distance']) | (abs(df_2.send - row.send) <= params[te_type]['min_distance'])]\n",
    "    if len(res.index) > 1:\n",
    "        discard.extend(res.index.values)\n",
    "    rows.append(row)"
   ]
  },
  {
   "cell_type": "code",
   "execution_count": null,
   "metadata": {},
   "outputs": [],
   "source": [
    "df = pd.DataFrame(rows)\n",
    "df.sort_values(['sseqid', 'sstart'], inplace=True)\n",
    "print('Non overlapped: ' + str(len(df.index)))\n",
    "non_overlapped = str(len(df.index))"
   ]
  },
  {
   "cell_type": "code",
   "execution_count": null,
   "metadata": {},
   "outputs": [],
   "source": [
    "filename = path_blast + params[te_type]['file'] + '.filtered'\n",
    "df.to_csv(filename, index=None, sep='\\t')\n",
    "filename"
   ]
  },
  {
   "cell_type": "code",
   "execution_count": null,
   "metadata": {},
   "outputs": [],
   "source": [
    "print('Running: ' + str(te_type))\n",
    "print('Initial: ' + str(initial))\n",
    "print('Min len: ' + str(min_length))\n",
    "print('Max len: ' + str(max_length))\n",
    "print('Min treshold: ' + str(min_treshold))\n",
    "print('Max treshold: ' + str(max_treshold))\n",
    "print('Min pident: ' + str(min_pident))\n",
    "print('Min qcov: ' + str(min_qcov))\n",
    "print('Non overlapped: ' + str(non_overlapped))\n",
    "print('Saved: ' + filename)"
   ]
  },
  {
   "cell_type": "code",
   "execution_count": null,
   "metadata": {},
   "outputs": [],
   "source": [
    "params[te_type]"
   ]
  },
  {
   "cell_type": "code",
   "execution_count": null,
   "metadata": {},
   "outputs": [],
   "source": []
  },
  {
   "cell_type": "code",
   "execution_count": null,
   "metadata": {},
   "outputs": [],
   "source": []
  }
 ],
 "metadata": {
  "kernelspec": {
   "display_name": "Python 3",
   "language": "python",
   "name": "python3"
  },
  "language_info": {
   "codemirror_mode": {
    "name": "ipython",
    "version": 3
   },
   "file_extension": ".py",
   "mimetype": "text/x-python",
   "name": "python",
   "nbconvert_exporter": "python",
   "pygments_lexer": "ipython3",
   "version": "3.6.5"
  }
 },
 "nbformat": 4,
 "nbformat_minor": 2
}
